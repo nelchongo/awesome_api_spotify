{
 "cells": [
  {
   "cell_type": "markdown",
   "metadata": {},
   "source": [
    "# User management processing"
   ]
  },
  {
   "cell_type": "code",
   "execution_count": 1,
   "metadata": {},
   "outputs": [],
   "source": [
    "# THIS PART IS NOT NEEDED IN A JOB CREATE A PACKAGE INSTEAD\n",
    "import sys\n",
    "import os\n",
    "\n",
    "parent_dir = os.path.abspath(os.path.join(os.path.dirname(os.path.abspath(''))))\n",
    "sys.path.append(parent_dir)"
   ]
  },
  {
   "cell_type": "code",
   "execution_count": 2,
   "metadata": {},
   "outputs": [],
   "source": [
    "from local_packages.awesome_spotify_packages.request import UserManager as user_class, AuthorizationManager as auth_class\n",
    "from local_packages.awesome_spotify_packages.aws import SecretManager as secret_manager, S3Manager as s3_manager"
   ]
  },
  {
   "cell_type": "code",
   "execution_count": 3,
   "metadata": {},
   "outputs": [],
   "source": [
    "# Secrets\n",
    "client_token = secret_manager('dev/awesome_api_spotify/client_token')\n",
    "client_credentials = secret_manager('dev/awesome_api_spotify/client_credentials')\n",
    "bucket_secret = secret_manager('dev/awesome_api_spotify/bucket_name')\n",
    "# Test Bucket\n",
    "s3 = s3_manager(bucket_secret)"
   ]
  },
  {
   "cell_type": "code",
   "execution_count": 4,
   "metadata": {},
   "outputs": [],
   "source": [
    "#Init the auth class\n",
    "auth = auth_class(client_token, client_credentials)\n",
    "#Init the user class\n",
    "user = user_class(auth = auth)"
   ]
  },
  {
   "cell_type": "code",
   "execution_count": 5,
   "metadata": {},
   "outputs": [],
   "source": [
    "def fetch_top(type:str, limit:int = 50):\n",
    "    offset = 0\n",
    "    while True:\n",
    "        obj = user.get_top(type = type, time_range = 'long_term', offset = offset, limit = limit).json()\n",
    "        s3.put_s3('User/top/{}/{}_{}.json'.format(type, type, obj['offset']), obj['items'])\n",
    "        offset += limit\n",
    "        if obj['next'] == None:\n",
    "            break"
   ]
  },
  {
   "cell_type": "code",
   "execution_count": 6,
   "metadata": {},
   "outputs": [],
   "source": [
    "# Fetch my top artist in long term & storing them for further processing\n",
    "for t in ['artists', 'tracks']:\n",
    "    fetch_top(t)"
   ]
  }
 ],
 "metadata": {
  "kernelspec": {
   "display_name": "personal",
   "language": "python",
   "name": "python3"
  },
  "language_info": {
   "codemirror_mode": {
    "name": "ipython",
    "version": 3
   },
   "file_extension": ".py",
   "mimetype": "text/x-python",
   "name": "python",
   "nbconvert_exporter": "python",
   "pygments_lexer": "ipython3",
   "version": "3.12.3"
  }
 },
 "nbformat": 4,
 "nbformat_minor": 2
}
